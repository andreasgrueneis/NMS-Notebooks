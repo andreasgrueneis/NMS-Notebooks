{
 "cells": [
  {
   "cell_type": "code",
   "execution_count": 26,
   "id": "graphic-baseline",
   "metadata": {},
   "outputs": [
    {
     "data": {
      "application/vnd.jupyter.widget-view+json": {
       "model_id": "d007ce5166624a27a7ddd611b44b1edb",
       "version_major": 2,
       "version_minor": 0
      },
      "text/plain": [
       "interactive(children=(FloatSlider(value=1.0, description='dx', max=2.0, min=0.1, step=0.05), Output()), _dom_c…"
      ]
     },
     "metadata": {},
     "output_type": "display_data"
    },
    {
     "data": {
      "text/plain": [
       "<function __main__.plot_func(dx)>"
      ]
     },
     "execution_count": 26,
     "metadata": {},
     "output_type": "execute_result"
    }
   ],
   "source": [
    "from ipywidgets import interact, interactive, fixed, interact_manual\n",
    "import ipywidgets as widgets\n",
    "import matplotlib.pyplot as plt\n",
    "import numpy as np\n",
    "\n",
    "def plot_func(dx):\n",
    "\n",
    "    #specifiy initial parameters\n",
    "    #lambda\n",
    "    l=1\n",
    "    xmin=0\n",
    "    xmax=10\n",
    "    \n",
    "    \n",
    "    #total number of integration steps for defined interval\n",
    "    N=int((xmax-xmin)/dx)\n",
    "\n",
    "\n",
    "    # Array der Stützstellen\n",
    "    x = np.linspace(xmin, xmax, N)\n",
    "\n",
    "    # Initialisierung\n",
    "    y = np.zeros(N)\n",
    "    y[0] = 1\n",
    "\n",
    "    #t = np.arange(steps)*dt\n",
    "\n",
    "    # Numerische Integration\n",
    "    for i in range(0,N-1):    \n",
    "        # Berechnung von f(x_n)\n",
    "        f = -l * y[i]\n",
    "        # Schrittweise Integration von Stützstelle zu Stützstelle\n",
    "        y[i+1] = y[i] + dx * f\n",
    "\n",
    "    plt.rcParams['font.size'] = '16'\n",
    "    \n",
    "    plt.plot(x, y, \"red\", marker=9, label=\"Euler dx=\"+str(dx))\n",
    "    \n",
    "    #Numerically evaluate exact analytic solution\n",
    "    x_exact = np.linspace(0, xmax, 1000)\n",
    "    y_exact = np.exp(-l*x_exact)\n",
    "    plt.plot(x_exact, y_exact,\"black\",label=\"Exact\")\n",
    "\n",
    "    plt.xlabel('x')\n",
    "    plt.ylabel('y(x)')\n",
    "    plt.legend()\n",
    "    plt.show()\n",
    "\n",
    "\n",
    "\n",
    "interact(plot_func, dx = widgets.FloatSlider(value=1.0,\n",
    "                                               min=0.1,\n",
    "                                               max=2.0,\n",
    "                                               step=0.05))\n",
    "\n"
   ]
  },
  {
   "cell_type": "code",
   "execution_count": null,
   "id": "polyphonic-boutique",
   "metadata": {},
   "outputs": [],
   "source": []
  }
 ],
 "metadata": {
  "kernelspec": {
   "display_name": "Python 3",
   "language": "python",
   "name": "python3"
  },
  "language_info": {
   "codemirror_mode": {
    "name": "ipython",
    "version": 3
   },
   "file_extension": ".py",
   "mimetype": "text/x-python",
   "name": "python",
   "nbconvert_exporter": "python",
   "pygments_lexer": "ipython3",
   "version": "3.6.9"
  }
 },
 "nbformat": 4,
 "nbformat_minor": 5
}
