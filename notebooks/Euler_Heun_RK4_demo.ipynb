{
 "cells": [
  {
   "cell_type": "code",
   "execution_count": 1,
   "id": "graphic-baseline",
   "metadata": {},
   "outputs": [
    {
     "data": {
      "application/vnd.jupyter.widget-view+json": {
       "model_id": "501a95eaae9e471a891f45150b76f287",
       "version_major": 2,
       "version_minor": 0
      },
      "text/plain": [
       "interactive(children=(FloatSlider(value=1.0, description='dx', max=2.0, min=0.1), Output()), _dom_classes=('wi…"
      ]
     },
     "metadata": {},
     "output_type": "display_data"
    },
    {
     "data": {
      "text/plain": [
       "<function __main__.plot_func(dx)>"
      ]
     },
     "execution_count": 1,
     "metadata": {},
     "output_type": "execute_result"
    }
   ],
   "source": [
    "from ipywidgets import interact, interactive, fixed, interact_manual\n",
    "import ipywidgets as widgets\n",
    "import matplotlib.pyplot as plt\n",
    "import numpy as np\n",
    "\n",
    "def plot_func(dx):\n",
    "\n",
    "    #specifiy initial parameters\n",
    "    #lambda\n",
    "    l=1\n",
    "    xmin=0\n",
    "    xmax=10\n",
    "    \n",
    "    #total number of integration steps for defined interval\n",
    "    N=int((xmax-xmin)/dx)\n",
    "\n",
    "    # Array der Stützstellen\n",
    "    x = np.linspace(xmin, xmax, N)\n",
    "\n",
    "    # Initialisierung\n",
    "    y = np.zeros(N)\n",
    "    f = np.zeros(N)\n",
    "    y[0] = 1\n",
    "\n",
    "    # Numerische Integration\n",
    "    for i in range(0,N-1):    \n",
    "        # Berechnung von f(x_n)\n",
    "        f[i] = -l * y[i]\n",
    "        # Schrittweise Integration von Stützstelle zu Stützstelle\n",
    "        y[i+1] = y[i] + dx * f[i]\n",
    "\n",
    "    fig, axs = plt.subplots(2,sharex=True)\n",
    "    fig.suptitle('Euler-Verfahren')\n",
    "    axs[0].plot(x, y, \"red\", marker=9, label=\"Euler dx=\"+str(dx))\n",
    "    \n",
    "    #Numerically evaluate exact analytic solution\n",
    "    x_exact = np.linspace(0, xmax, 1000)\n",
    "    y_exact = np.exp(-l*x_exact)\n",
    "    axs[0].plot(x_exact, y_exact,\"black\",label=\"Exact y(x)\")\n",
    "\n",
    "    f_exact = -l*np.exp(-l*x_exact)\n",
    "    axs[1].plot(x, f, \"green\", marker=9)\n",
    "    axs[1].plot(x_exact, f_exact, \"black\", label=\"Exact f(x)\")\n",
    "    \n",
    "    axs[0].set(ylabel='y(x)')\n",
    "    axs[1].set(xlabel='x',ylabel='f(x)')\n",
    "    axs[0].legend()\n",
    "    axs[1].legend()\n",
    "    \n",
    "##############################################################\n",
    "\n",
    "interact(plot_func, dx = widgets.FloatSlider(value=1.0,\n",
    "                                               min=0.1,\n",
    "                                               max=2.0,\n",
    "                                               step=0.1))"
   ]
  },
  {
   "cell_type": "code",
   "execution_count": 2,
   "id": "polyphonic-boutique",
   "metadata": {},
   "outputs": [
    {
     "data": {
      "application/vnd.jupyter.widget-view+json": {
       "model_id": "c3526d0d04ac45f490ed2779735704e4",
       "version_major": 2,
       "version_minor": 0
      },
      "text/plain": [
       "interactive(children=(FloatSlider(value=1.0, description='dx', max=2.0, min=0.1), Output()), _dom_classes=('wi…"
      ]
     },
     "metadata": {},
     "output_type": "display_data"
    },
    {
     "data": {
      "text/plain": [
       "<function __main__.plot_func(dx)>"
      ]
     },
     "execution_count": 2,
     "metadata": {},
     "output_type": "execute_result"
    }
   ],
   "source": [
    "from ipywidgets import interact, interactive, fixed, interact_manual\n",
    "import ipywidgets as widgets\n",
    "import matplotlib.pyplot as plt\n",
    "import numpy as np\n",
    "\n",
    "def plot_func(dx):\n",
    "\n",
    "    #specifiy initial parameters\n",
    "    #lambda\n",
    "    l=1\n",
    "    xmin=0\n",
    "    xmax=10\n",
    "    \n",
    "    #total number of integration steps for defined interval\n",
    "    N=int((xmax-xmin)/dx)\n",
    "\n",
    "    # Array der Stützstellen\n",
    "    x = np.linspace(xmin, xmax, N)\n",
    "\n",
    "    # Initialisierung\n",
    "    y = np.zeros(N)\n",
    "    f = np.zeros(N)\n",
    "    phi = np.zeros(N)\n",
    "    y[0] = 1\n",
    "\n",
    "    # Numerische Integration\n",
    "    for i in range(0,N-1):    \n",
    "        # Berechnung von f(x_n)\n",
    "        f[i] = -l * y[i]\n",
    "        phi[i] = 1/2 * ( f[i] +  (-l * (y[i] +dx*f[i]) ) )\n",
    "        # Schrittweise Integration von Stützstelle zu Stützstelle\n",
    "        y[i+1] = y[i] + dx * phi[i]\n",
    "\n",
    "    fig, axs = plt.subplots(2,sharex=True)\n",
    "    fig.suptitle('Verfahren von Heun')\n",
    "    \n",
    "    axs[0].plot(x, y, \"red\", marker=9, label=\"Euler dx=\"+str(dx))\n",
    "    \n",
    "    #Numerically evaluate exact analytic solution\n",
    "    x_exact = np.linspace(0, xmax, 1000)\n",
    "    y_exact = np.exp(-l*x_exact)\n",
    "    axs[0].plot(x_exact, y_exact,\"black\",label=\"Exact y(x)\")\n",
    "\n",
    "    f_exact = -l*np.exp(-l*x_exact)\n",
    "    axs[1].plot(x, f, \"green\", marker=9)\n",
    "    axs[1].plot(x_exact, f_exact, \"black\", label=\"Exact f(x)\")\n",
    "    \n",
    "    axs[0].set(ylabel='y(x)')\n",
    "    axs[1].set(xlabel='x',ylabel='f(x)')\n",
    "    axs[0].legend()\n",
    "    axs[1].legend()\n",
    "\n",
    "##############################################################\n",
    "\n",
    "interact(plot_func, dx = widgets.FloatSlider(value=1.0,\n",
    "                                               min=0.1,\n",
    "                                               max=2.0,\n",
    "                                               step=0.1))\n",
    "\n"
   ]
  },
  {
   "cell_type": "code",
   "execution_count": 3,
   "id": "severe-hardwood",
   "metadata": {},
   "outputs": [
    {
     "data": {
      "application/vnd.jupyter.widget-view+json": {
       "model_id": "2481e5913970464592886717f575af98",
       "version_major": 2,
       "version_minor": 0
      },
      "text/plain": [
       "interactive(children=(FloatSlider(value=1.0, description='dx', max=2.0, min=0.1), Output()), _dom_classes=('wi…"
      ]
     },
     "metadata": {},
     "output_type": "display_data"
    },
    {
     "data": {
      "text/plain": [
       "<function __main__.plot_func(dx)>"
      ]
     },
     "execution_count": 3,
     "metadata": {},
     "output_type": "execute_result"
    }
   ],
   "source": [
    "from ipywidgets import interact, interactive, fixed, interact_manual\n",
    "import ipywidgets as widgets\n",
    "import matplotlib.pyplot as plt\n",
    "import numpy as np\n",
    "\n",
    "def plot_func(dx):\n",
    "\n",
    "    #specifiy initial parameters\n",
    "    #lambda\n",
    "    l=1\n",
    "    xmin=0\n",
    "    xmax=10\n",
    "    \n",
    "    #total number of integration steps for defined interval\n",
    "    N=int((xmax-xmin)/dx)\n",
    "\n",
    "    # Array der Stützstellen\n",
    "    x = np.linspace(xmin, xmax, N)\n",
    "\n",
    "    # Initialisierung\n",
    "    y = np.zeros(N)\n",
    "    f = np.zeros(N)\n",
    "    phi = np.zeros(N)\n",
    "    y[0] = 1\n",
    "\n",
    "    # Numerische Integration\n",
    "    for i in range(0,N-1):    \n",
    "        # Berechnung von f(x_n)\n",
    "        f[i] = -l * y[i]\n",
    "        phi[i] = -l * (y[i] + dx/2* f[i])\n",
    "        # Schrittweise Integration von Stützstelle zu Stützstelle\n",
    "        y[i+1] = y[i] + dx * phi[i]\n",
    "\n",
    "    fig, axs = plt.subplots(2,sharex=True)\n",
    "    fig.suptitle('Mittelpunktsregel')\n",
    "    \n",
    "    axs[0].plot(x, y, \"red\", marker=9, label=\"Euler dx=\"+str(dx))\n",
    "    \n",
    "    #Numerically evaluate exact analytic solution\n",
    "    x_exact = np.linspace(0, xmax, 1000)\n",
    "    y_exact = np.exp(-l*x_exact)\n",
    "    axs[0].plot(x_exact, y_exact,\"black\",label=\"Exact y(x)\")\n",
    "\n",
    "    f_exact = -l*np.exp(-l*x_exact)\n",
    "    axs[1].plot(x, f, \"green\", marker=9)\n",
    "    axs[1].plot(x_exact, f_exact, \"black\", label=\"Exact f(x)\")\n",
    "    \n",
    "    axs[0].set(ylabel='y(x)')\n",
    "    axs[1].set(xlabel='x',ylabel='f(x)')\n",
    "    axs[0].legend()\n",
    "    axs[1].legend()\n",
    "\n",
    "##############################################################\n",
    "\n",
    "interact(plot_func, dx = widgets.FloatSlider(value=1.0,\n",
    "                                               min=0.1,\n",
    "                                               max=2.0,\n",
    "                                               step=0.1))"
   ]
  },
  {
   "cell_type": "code",
   "execution_count": 4,
   "id": "conditional-benefit",
   "metadata": {},
   "outputs": [
    {
     "data": {
      "application/vnd.jupyter.widget-view+json": {
       "model_id": "7c12895e83fd48319a1ee580cba05411",
       "version_major": 2,
       "version_minor": 0
      },
      "text/plain": [
       "interactive(children=(FloatSlider(value=1.0, description='dx', max=2.0, min=0.1), Output()), _dom_classes=('wi…"
      ]
     },
     "metadata": {},
     "output_type": "display_data"
    },
    {
     "data": {
      "text/plain": [
       "<function __main__.plot_func(dx)>"
      ]
     },
     "execution_count": 4,
     "metadata": {},
     "output_type": "execute_result"
    }
   ],
   "source": [
    "from ipywidgets import interact, interactive, fixed, interact_manual\n",
    "import ipywidgets as widgets\n",
    "import matplotlib.pyplot as plt\n",
    "import numpy as np\n",
    "\n",
    "def plot_func(dx):\n",
    "\n",
    "    #specifiy initial parameters\n",
    "    #lambda\n",
    "    l=1\n",
    "    xmin=0\n",
    "    xmax=10\n",
    "    \n",
    "    \n",
    "    #total number of integration steps for defined interval\n",
    "    N=int((xmax-xmin)/dx)\n",
    "\n",
    "    # Array der Stützstellen\n",
    "    x = np.linspace(xmin, xmax, N)\n",
    "\n",
    "    # Initialisierung\n",
    "    y = np.zeros(N)\n",
    "    f = np.zeros(N)\n",
    "    phi = np.zeros(N)\n",
    "    y[0] = 1\n",
    "\n",
    "    # Numerische Integration\n",
    "    for i in range(0,N-1):    \n",
    "        k1= -l * y[i] \n",
    "        k2= -l * (y[i] +dx/2 * k1)\n",
    "        k3= -l * (y[i] +dx/2 * k2)\n",
    "        k4= -l * (y[i] +dx * k3)\n",
    "        \n",
    "        phi[i] = 1/6 * (k1 + 2*k2 + 2*k3 + k4)\n",
    "        f[i]=phi[i]\n",
    "        # Schrittweise Integration von Stützstelle zu Stützstelle\n",
    "        y[i+1] = y[i] + dx * phi[i]\n",
    "\n",
    "    fig, axs = plt.subplots(2,sharex=True)\n",
    "    fig.suptitle('Runge-Kutta-Verfahren 4ter Ordnung')\n",
    "    \n",
    "    axs[0].plot(x, y, \"red\", marker=9, label=\"Euler dx=\"+str(dx))\n",
    "    \n",
    "    #Numerically evaluate exact analytic solution\n",
    "    x_exact = np.linspace(0, xmax, 1000)\n",
    "    y_exact = np.exp(-l*x_exact)\n",
    "    axs[0].plot(x_exact, y_exact,\"black\",label=\"Exact y(x)\")\n",
    "\n",
    "    f_exact = -l*np.exp(-l*x_exact)\n",
    "    axs[1].plot(x, f, \"green\", marker=9)\n",
    "    axs[1].plot(x_exact, f_exact, \"black\", label=\"Exact f(x)\")    \n",
    "    \n",
    "    axs[0].set(ylabel='y(x)')\n",
    "    axs[1].set(xlabel='x',ylabel='f(x)')\n",
    "    axs[0].legend()\n",
    "    axs[1].legend()\n",
    "\n",
    "##############################################################\n",
    "\n",
    "interact(plot_func, dx = widgets.FloatSlider(value=1.0,\n",
    "                                               min=0.1,\n",
    "                                               max=2.0,\n",
    "                                               step=0.1))"
   ]
  },
  {
   "cell_type": "code",
   "execution_count": null,
   "id": "dental-minutes",
   "metadata": {},
   "outputs": [],
   "source": []
  }
 ],
 "metadata": {
  "kernelspec": {
   "display_name": "Python 3",
   "language": "python",
   "name": "python3"
  },
  "language_info": {
   "codemirror_mode": {
    "name": "ipython",
    "version": 3
   },
   "file_extension": ".py",
   "mimetype": "text/x-python",
   "name": "python",
   "nbconvert_exporter": "python",
   "pygments_lexer": "ipython3",
   "version": "3.6.9"
  }
 },
 "nbformat": 4,
 "nbformat_minor": 5
}
