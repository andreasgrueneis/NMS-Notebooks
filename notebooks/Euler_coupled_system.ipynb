{
 "cells": [
  {
   "cell_type": "code",
   "execution_count": 5,
   "metadata": {},
   "outputs": [
    {
     "data": {
      "application/vnd.jupyter.widget-view+json": {
       "model_id": "2108eb030eaf4464ac74ce437799f152",
       "version_major": 2,
       "version_minor": 0
      },
      "text/plain": [
       "interactive(children=(FloatSlider(value=0.0, description='angle', max=360.0, step=10.0), FloatSlider(value=0.0…"
      ]
     },
     "metadata": {},
     "output_type": "display_data"
    },
    {
     "data": {
      "text/plain": [
       "<function __main__.plot_func(angle, dt, a, b, c)>"
      ]
     },
     "execution_count": 5,
     "metadata": {},
     "output_type": "execute_result"
    }
   ],
   "source": [
    "from ipywidgets import interact, interactive, fixed, interact_manual\n",
    "import ipywidgets as widgets\n",
    "import numpy as np\n",
    "import matplotlib.pyplot as plt\n",
    "from mpl_toolkits import mplot3d\n",
    "from mpl_toolkits.mplot3d import Axes3D\n",
    "\n",
    "def plot_func(angle,dt,a,b,c):\n",
    "    N=int(100/dt)\n",
    "\n",
    "    r = np.zeros((3,N))\n",
    "    r[0,0]=20\n",
    "    r[1,0]=20\n",
    "    r[2,0]=40\n",
    "\n",
    "    p = np.zeros(3)\n",
    "    #a[0]=10.\n",
    "    #a[1]=28.\n",
    "    #a[2]=8.0/3.0\n",
    "    p[0]=a\n",
    "    p[1]=b\n",
    "    p[2]=c\n",
    "    f = np.zeros((3))\n",
    "\n",
    "    # Numerische Integration\n",
    "    for i in range(1,N-1):\n",
    "        # Berechnung von f(x_n)\n",
    "        f[0] = p[0]*(r[1,i-1]-r[0,i-1])\n",
    "        f[1] = r[0,i-1]*(p[1]-r[2,i-1]) - r[1,i-1]\n",
    "        f[2] = r[0,i-1]*r[1,i-1]- p[2]*r[2,i-1]\n",
    "    \n",
    "        # Schrittweise Integration von Stützstelle zu Stützstelle\n",
    "        r[:,i] = r[:,i-1] + dt * f[:]\n",
    "\n",
    "\n",
    "    fig = plt.figure()\n",
    "    ax = fig.add_subplot(111, projection='3d')\n",
    "\n",
    "    ax.plot3D(r[0,:], r[1,:], r[2,:], 'red')\n",
    "\n",
    "    ax.view_init(-140, angle)\n",
    "\n",
    "    fig.set_size_inches(10, 10)\n",
    "\n",
    "    plt.show()\n",
    "\n",
    "\n",
    "interact(plot_func, dt = widgets.FloatSlider(value=0.0100,\n",
    "                                               min=0.0100,\n",
    "                                               max=0.0300,\n",
    "                                               step=0.0005,readout_format='.4f'),\n",
    "                    angle = widgets.FloatSlider(value=0.0,\n",
    "                                               min=0,\n",
    "                                               max=360,\n",
    "                                               step=10),\n",
    "                    a = widgets.FloatSlider(value=10,\n",
    "                                               min=0,\n",
    "                                               max=30,\n",
    "                                               step=1),\n",
    "                    b = widgets.FloatSlider(value=28,\n",
    "                                               min=0,\n",
    "                                               max=30,\n",
    "                                               step=1),\n",
    "                    c = widgets.FloatSlider(value=2.666,\n",
    "                                               min=0,\n",
    "                                               max=3.,\n",
    "                                               step=0.333))\n"
   ]
  },
  {
   "cell_type": "code",
   "execution_count": null,
   "metadata": {},
   "outputs": [],
   "source": []
  }
 ],
 "metadata": {
  "kernelspec": {
   "display_name": "Python 3",
   "language": "python",
   "name": "python3"
  },
  "language_info": {
   "codemirror_mode": {
    "name": "ipython",
    "version": 3
   },
   "file_extension": ".py",
   "mimetype": "text/x-python",
   "name": "python",
   "nbconvert_exporter": "python",
   "pygments_lexer": "ipython3",
   "version": "3.6.9"
  }
 },
 "nbformat": 4,
 "nbformat_minor": 2
}
